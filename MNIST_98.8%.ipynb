{
 "cells": [
  {
   "cell_type": "code",
   "execution_count": 1,
   "id": "21a0b6d8",
   "metadata": {},
   "outputs": [],
   "source": [
    "import torch\n",
    "from torch import nn\n",
    "from torchvision import datasets\n",
    "import numpy as np\n",
    "from matplotlib import pyplot as plt\n",
    "from torch.utils.data import DataLoader\n",
    "import torchvision.transforms"
   ]
  },
  {
   "cell_type": "code",
   "execution_count": 2,
   "id": "824bd6b0",
   "metadata": {
    "scrolled": true
   },
   "outputs": [
    {
     "name": "stderr",
     "output_type": "stream",
     "text": [
      "C:\\Users\\Pete\\anaconda3\\lib\\site-packages\\torchvision\\datasets\\mnist.py:498: UserWarning: The given NumPy array is not writeable, and PyTorch does not support non-writeable tensors. This means you can write to the underlying (supposedly non-writeable) NumPy array using the tensor. You may want to copy the array to protect its data or make it writeable before converting it to a tensor. This type of warning will be suppressed for the rest of this program. (Triggered internally at  ..\\torch\\csrc\\utils\\tensor_numpy.cpp:180.)\n",
      "  return torch.from_numpy(parsed.astype(m[2], copy=False)).view(*s)\n"
     ]
    }
   ],
   "source": [
    "training_data = datasets.MNIST(root=\"data\",\n",
    "                              train=True,\n",
    "                              download=True,\n",
    "                              transform=torchvision.transforms.ToTensor())"
   ]
  },
  {
   "cell_type": "code",
   "execution_count": 3,
   "id": "d2b5ae18",
   "metadata": {},
   "outputs": [],
   "source": [
    "test_data = datasets.MNIST(root=\"data\",\n",
    "                          train=False,\n",
    "                          download=True,\n",
    "                          transform=torchvision.transforms.ToTensor())"
   ]
  },
  {
   "cell_type": "code",
   "execution_count": 4,
   "id": "c30a2027",
   "metadata": {},
   "outputs": [],
   "source": [
    "train_dataloader = DataLoader(training_data, batch_size=64)\n",
    "test_dataloader = DataLoader(test_data, batch_size=64)"
   ]
  },
  {
   "cell_type": "code",
   "execution_count": 5,
   "id": "2b57e417",
   "metadata": {},
   "outputs": [
    {
     "name": "stdout",
     "output_type": "stream",
     "text": [
      "torch.Size([64, 1, 28, 28])\n",
      "torch.Size([64])\n"
     ]
    }
   ],
   "source": [
    "for X, y in test_dataloader:\n",
    "    print(X.shape)\n",
    "    print(y.shape)\n",
    "    break"
   ]
  },
  {
   "cell_type": "code",
   "execution_count": 15,
   "id": "7464e6fe",
   "metadata": {},
   "outputs": [
    {
     "name": "stdout",
     "output_type": "stream",
     "text": [
      "Using cuda device\n",
      "NeuralNetwork(\n",
      "  (conv1): Sequential(\n",
      "    (0): Conv2d(1, 12, kernel_size=(2, 2), stride=(1, 1), padding=(1, 1))\n",
      "    (1): ReLU()\n",
      "  )\n",
      "  (conv2): Sequential(\n",
      "    (0): Conv2d(12, 24, kernel_size=(2, 2), stride=(1, 1), padding=(1, 1))\n",
      "    (1): ReLU()\n",
      "    (2): MaxPool2d(kernel_size=2, stride=2, padding=0, dilation=1, ceil_mode=False)\n",
      "  )\n",
      "  (conv3): Sequential(\n",
      "    (0): Conv2d(24, 48, kernel_size=(2, 2), stride=(1, 1), padding=(1, 1))\n",
      "    (1): ReLU()\n",
      "  )\n",
      "  (conv4): Sequential(\n",
      "    (0): Conv2d(48, 96, kernel_size=(2, 2), stride=(1, 1), padding=(1, 1))\n",
      "    (1): ReLU()\n",
      "    (2): MaxPool2d(kernel_size=2, stride=2, padding=0, dilation=1, ceil_mode=False)\n",
      "  )\n",
      "  (flatten): Flatten(start_dim=1, end_dim=-1)\n",
      "  (linear): Sequential(\n",
      "    (0): Linear(in_features=6144, out_features=512, bias=True)\n",
      "    (1): ReLU()\n",
      "    (2): Linear(in_features=512, out_features=512, bias=True)\n",
      "    (3): ReLU()\n",
      "    (4): Linear(in_features=512, out_features=10, bias=True)\n",
      "  )\n",
      ")\n"
     ]
    }
   ],
   "source": [
    "device = \"cuda\" if torch.cuda.is_available() else \"cpu\"\n",
    "print(\"Using {} device\".format(device))\n",
    "\n",
    "class NeuralNetwork(nn.Module):\n",
    "    def __init__(self):\n",
    "        super(NeuralNetwork, self).__init__()\n",
    "        self.conv1 = nn.Sequential(nn.Conv2d(in_channels=1, out_channels=12, kernel_size=2, stride=1, padding=1),\n",
    "                                  nn.ReLU())\n",
    "        self.conv2 = nn.Sequential(nn.Conv2d(in_channels=12, out_channels=24, kernel_size=2, stride=1, padding=1),\n",
    "                                  nn.ReLU(),\n",
    "                                  nn.MaxPool2d(kernel_size=2))\n",
    "        self.conv3 = nn.Sequential(nn.Conv2d(in_channels=24, out_channels=48, kernel_size=2, stride=1, padding=1),\n",
    "                                  nn.ReLU())\n",
    "        self.conv4 = nn.Sequential(nn.Conv2d(in_channels=48, out_channels=96, kernel_size=2, stride=1, padding=1),\n",
    "                                  nn.ReLU(),\n",
    "                                  nn.MaxPool2d(kernel_size=2))\n",
    "        self.flatten = nn.Flatten()\n",
    "        self.linear = nn.Sequential(nn.Linear(in_features=(6144), out_features=512),\n",
    "                                   nn.ReLU(),\n",
    "                                   nn.Linear(in_features=(512), out_features=512),\n",
    "                                   nn.ReLU(),\n",
    "                                   nn.Linear(in_features=512,out_features=10))\n",
    "\n",
    "    def forward(self, x):\n",
    "        x = self.conv1(x)\n",
    "        x = self.conv2(x)\n",
    "        x = self.conv3(x)\n",
    "        x = self.conv4(x)\n",
    "        x = self.flatten(x)\n",
    "        x = self.linear(x)\n",
    "        return x\n",
    "        \n",
    "model = NeuralNetwork().to(device)\n",
    "print(model)"
   ]
  },
  {
   "cell_type": "code",
   "execution_count": 16,
   "id": "a7fd5570",
   "metadata": {},
   "outputs": [],
   "source": [
    "loss_fn = nn.CrossEntropyLoss()\n",
    "optimizer = torch.optim.Adam(model.parameters(), lr=2e-3)"
   ]
  },
  {
   "cell_type": "code",
   "execution_count": 17,
   "id": "34d284d7",
   "metadata": {},
   "outputs": [],
   "source": [
    "def train(dataloader, model, loss_fn, optimizer):\n",
    "    size = len(dataloader.dataset)\n",
    "    model.train()\n",
    "    \n",
    "    for batch, (X,y) in enumerate(dataloader):\n",
    "        X, y = X.to(device), y.to(device)\n",
    "        pred = model(X)\n",
    "        loss = loss_fn(pred, y)\n",
    "        optimizer.zero_grad()\n",
    "        loss.backward()\n",
    "        optimizer.step()\n",
    "        \n",
    "        if batch % 100 == 0:\n",
    "            loss, current = loss.item(), batch * len(X)\n",
    "            print(f\"loss {loss:>7f} [{current:>5d}/{size:>5d}]\")"
   ]
  },
  {
   "cell_type": "code",
   "execution_count": 18,
   "id": "d23fec58",
   "metadata": {},
   "outputs": [],
   "source": [
    "def test(dataloader, model, loss_fn):\n",
    "    num_batches = len(dataloader)\n",
    "    size = len(dataloader.dataset)\n",
    "    model.eval()\n",
    "    \n",
    "    test_loss, correct = 0, 0\n",
    "    \n",
    "    with torch.no_grad():\n",
    "        for X, y in dataloader:\n",
    "            X, y = X.to(device), y.to(device)\n",
    "            pred = model(X)\n",
    "            test_loss += loss_fn(pred, y).item()\n",
    "            correct += (pred.argmax(1)==y).type(torch.float).sum().item()\n",
    "    test_loss /= num_batches\n",
    "    correct /= size\n",
    "    \n",
    "    print(f\"Test Error: \\n Accuracy: {(100*correct):>0.1f}%, Avg loss: {test_loss:>8f} \\n\")"
   ]
  },
  {
   "cell_type": "code",
   "execution_count": 19,
   "id": "a0442368",
   "metadata": {},
   "outputs": [
    {
     "name": "stdout",
     "output_type": "stream",
     "text": [
      "Epoch 1 \n",
      "---------------------\n",
      "loss 2.305007 [    0/60000]\n",
      "loss 0.172099 [ 6400/60000]\n",
      "loss 0.158488 [12800/60000]\n",
      "loss 0.116808 [19200/60000]\n",
      "loss 0.058603 [25600/60000]\n",
      "loss 0.161858 [32000/60000]\n",
      "loss 0.085256 [38400/60000]\n",
      "loss 0.106100 [44800/60000]\n",
      "loss 0.156642 [51200/60000]\n",
      "loss 0.077662 [57600/60000]\n",
      "Test Error: \n",
      " Accuracy: 97.4%, Avg loss: 0.095575 \n",
      "\n",
      "Epoch 2 \n",
      "---------------------\n",
      "loss 0.046386 [    0/60000]\n",
      "loss 0.078777 [ 6400/60000]\n",
      "loss 0.055260 [12800/60000]\n",
      "loss 0.067968 [19200/60000]\n",
      "loss 0.013508 [25600/60000]\n",
      "loss 0.022018 [32000/60000]\n",
      "loss 0.053648 [38400/60000]\n",
      "loss 0.058335 [44800/60000]\n",
      "loss 0.162152 [51200/60000]\n",
      "loss 0.021814 [57600/60000]\n",
      "Test Error: \n",
      " Accuracy: 98.7%, Avg loss: 0.042862 \n",
      "\n",
      "Epoch 3 \n",
      "---------------------\n",
      "loss 0.013539 [    0/60000]\n",
      "loss 0.041576 [ 6400/60000]\n",
      "loss 0.035188 [12800/60000]\n",
      "loss 0.083531 [19200/60000]\n",
      "loss 0.015271 [25600/60000]\n",
      "loss 0.003226 [32000/60000]\n",
      "loss 0.009197 [38400/60000]\n",
      "loss 0.027943 [44800/60000]\n",
      "loss 0.251126 [51200/60000]\n",
      "loss 0.006588 [57600/60000]\n",
      "Test Error: \n",
      " Accuracy: 98.8%, Avg loss: 0.039141 \n",
      "\n",
      "Epoch 4 \n",
      "---------------------\n",
      "loss 0.002802 [    0/60000]\n",
      "loss 0.001668 [ 6400/60000]\n",
      "loss 0.045292 [12800/60000]\n",
      "loss 0.067666 [19200/60000]\n",
      "loss 0.002508 [25600/60000]\n",
      "loss 0.079736 [32000/60000]\n",
      "loss 0.084754 [38400/60000]\n",
      "loss 0.007179 [44800/60000]\n",
      "loss 0.223578 [51200/60000]\n",
      "loss 0.078710 [57600/60000]\n",
      "Test Error: \n",
      " Accuracy: 98.3%, Avg loss: 0.057938 \n",
      "\n",
      "Epoch 5 \n",
      "---------------------\n",
      "loss 0.031918 [    0/60000]\n",
      "loss 0.002029 [ 6400/60000]\n",
      "loss 0.017418 [12800/60000]\n",
      "loss 0.004384 [19200/60000]\n",
      "loss 0.014023 [25600/60000]\n",
      "loss 0.011742 [32000/60000]\n",
      "loss 0.008192 [38400/60000]\n",
      "loss 0.003875 [44800/60000]\n",
      "loss 0.098573 [51200/60000]\n",
      "loss 0.050050 [57600/60000]\n",
      "Test Error: \n",
      " Accuracy: 98.8%, Avg loss: 0.042498 \n",
      "\n",
      "Done!\n"
     ]
    }
   ],
   "source": [
    "epochs = 5\n",
    "for t in range(epochs):\n",
    "    print(f\"Epoch {t+1} \\n---------------------\")\n",
    "    train(train_dataloader, model, loss_fn, optimizer)\n",
    "    test(test_dataloader, model, loss_fn)\n",
    "print(\"Done!\")"
   ]
  },
  {
   "cell_type": "code",
   "execution_count": null,
   "id": "50c05505",
   "metadata": {},
   "outputs": [],
   "source": []
  }
 ],
 "metadata": {
  "kernelspec": {
   "display_name": "Python 3",
   "language": "python",
   "name": "python3"
  },
  "language_info": {
   "codemirror_mode": {
    "name": "ipython",
    "version": 3
   },
   "file_extension": ".py",
   "mimetype": "text/x-python",
   "name": "python",
   "nbconvert_exporter": "python",
   "pygments_lexer": "ipython3",
   "version": "3.8.8"
  }
 },
 "nbformat": 4,
 "nbformat_minor": 5
}
